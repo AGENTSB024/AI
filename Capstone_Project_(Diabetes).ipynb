{
  "nbformat": 4,
  "nbformat_minor": 0,
  "metadata": {
    "colab": {
      "name": "Capstone Project - (Diabetes)",
      "provenance": [],
      "collapsed_sections": []
    },
    "kernelspec": {
      "name": "python3",
      "display_name": "Python 3"
    }
  },
  "cells": [
    {
      "cell_type": "code",
      "metadata": {
        "id": "7F37LyZ4L3Ib",
        "colab_type": "code",
        "colab": {}
      },
      "source": [
        "#This is to import the libraries\n",
        "import pandas as pd \n",
        "import numpy as np\n",
        "from sklearn.preprocessing import StandardScaler\n",
        "from sklearn.preprocessing import LabelEncoder\n",
        "from sklearn.model_selection import train_test_split\n",
        "from sklearn.tree import DecisionTreeRegressor\n",
        "import matplotlib.pyplot as plt\n",
        "from sklearn.metrics import mean_squared_error, r2_score"
      ],
      "execution_count": 113,
      "outputs": []
    },
    {
      "cell_type": "code",
      "metadata": {
        "id": "f42Aw1CtL_f0",
        "colab_type": "code",
        "colab": {
          "base_uri": "https://localhost:8080/",
          "height": 626
        },
        "outputId": "2bbceed1-ad3a-4a71-eed3-445bffb8c763"
      },
      "source": [
        "#This is to download the Data\n",
        "data_set=pd.read_csv('diabetic_data.csv')\n",
        "data_set.columns\n",
        "data_set"
      ],
      "execution_count": 76,
      "outputs": [
        {
          "output_type": "execute_result",
          "data": {
            "text/html": [
              "<div>\n",
              "<style scoped>\n",
              "    .dataframe tbody tr th:only-of-type {\n",
              "        vertical-align: middle;\n",
              "    }\n",
              "\n",
              "    .dataframe tbody tr th {\n",
              "        vertical-align: top;\n",
              "    }\n",
              "\n",
              "    .dataframe thead th {\n",
              "        text-align: right;\n",
              "    }\n",
              "</style>\n",
              "<table border=\"1\" class=\"dataframe\">\n",
              "  <thead>\n",
              "    <tr style=\"text-align: right;\">\n",
              "      <th></th>\n",
              "      <th>encounter_id</th>\n",
              "      <th>patient_nbr</th>\n",
              "      <th>race</th>\n",
              "      <th>gender</th>\n",
              "      <th>age</th>\n",
              "      <th>weight</th>\n",
              "      <th>admission_type_id</th>\n",
              "      <th>discharge_disposition_id</th>\n",
              "      <th>admission_source_id</th>\n",
              "      <th>time_in_hospital</th>\n",
              "      <th>payer_code</th>\n",
              "      <th>medical_specialty</th>\n",
              "      <th>num_lab_procedures</th>\n",
              "      <th>num_procedures</th>\n",
              "      <th>num_medications</th>\n",
              "      <th>number_outpatient</th>\n",
              "      <th>number_emergency</th>\n",
              "      <th>number_inpatient</th>\n",
              "      <th>diag_1</th>\n",
              "      <th>diag_2</th>\n",
              "      <th>diag_3</th>\n",
              "      <th>number_diagnoses</th>\n",
              "      <th>max_glu_serum</th>\n",
              "      <th>A1Cresult</th>\n",
              "      <th>metformin</th>\n",
              "      <th>repaglinide</th>\n",
              "      <th>nateglinide</th>\n",
              "      <th>chlorpropamide</th>\n",
              "      <th>glimepiride</th>\n",
              "      <th>acetohexamide</th>\n",
              "      <th>glipizide</th>\n",
              "      <th>glyburide</th>\n",
              "      <th>tolbutamide</th>\n",
              "      <th>pioglitazone</th>\n",
              "      <th>rosiglitazone</th>\n",
              "      <th>acarbose</th>\n",
              "      <th>miglitol</th>\n",
              "      <th>troglitazone</th>\n",
              "      <th>tolazamide</th>\n",
              "      <th>examide</th>\n",
              "      <th>citoglipton</th>\n",
              "      <th>insulin</th>\n",
              "      <th>glyburide-metformin</th>\n",
              "      <th>glipizide-metformin</th>\n",
              "      <th>glimepiride-pioglitazone</th>\n",
              "      <th>metformin-rosiglitazone</th>\n",
              "      <th>metformin-pioglitazone</th>\n",
              "      <th>change</th>\n",
              "      <th>diabetesMed</th>\n",
              "      <th>readmitted</th>\n",
              "    </tr>\n",
              "  </thead>\n",
              "  <tbody>\n",
              "    <tr>\n",
              "      <th>0</th>\n",
              "      <td>2278392</td>\n",
              "      <td>8222157</td>\n",
              "      <td>Caucasian</td>\n",
              "      <td>Female</td>\n",
              "      <td>[0-10)</td>\n",
              "      <td>?</td>\n",
              "      <td>6</td>\n",
              "      <td>25</td>\n",
              "      <td>1</td>\n",
              "      <td>1</td>\n",
              "      <td>?</td>\n",
              "      <td>Pediatrics-Endocrinology</td>\n",
              "      <td>41</td>\n",
              "      <td>0</td>\n",
              "      <td>1</td>\n",
              "      <td>0</td>\n",
              "      <td>0</td>\n",
              "      <td>0</td>\n",
              "      <td>250.83</td>\n",
              "      <td>?</td>\n",
              "      <td>?</td>\n",
              "      <td>1</td>\n",
              "      <td>None</td>\n",
              "      <td>None</td>\n",
              "      <td>No</td>\n",
              "      <td>No</td>\n",
              "      <td>No</td>\n",
              "      <td>No</td>\n",
              "      <td>No</td>\n",
              "      <td>No</td>\n",
              "      <td>No</td>\n",
              "      <td>No</td>\n",
              "      <td>No</td>\n",
              "      <td>No</td>\n",
              "      <td>No</td>\n",
              "      <td>No</td>\n",
              "      <td>No</td>\n",
              "      <td>No</td>\n",
              "      <td>No</td>\n",
              "      <td>No</td>\n",
              "      <td>No</td>\n",
              "      <td>No</td>\n",
              "      <td>No</td>\n",
              "      <td>No</td>\n",
              "      <td>No</td>\n",
              "      <td>No</td>\n",
              "      <td>No</td>\n",
              "      <td>No</td>\n",
              "      <td>No</td>\n",
              "      <td>NO</td>\n",
              "    </tr>\n",
              "    <tr>\n",
              "      <th>1</th>\n",
              "      <td>149190</td>\n",
              "      <td>55629189</td>\n",
              "      <td>Caucasian</td>\n",
              "      <td>Female</td>\n",
              "      <td>[10-20)</td>\n",
              "      <td>?</td>\n",
              "      <td>1</td>\n",
              "      <td>1</td>\n",
              "      <td>7</td>\n",
              "      <td>3</td>\n",
              "      <td>?</td>\n",
              "      <td>?</td>\n",
              "      <td>59</td>\n",
              "      <td>0</td>\n",
              "      <td>18</td>\n",
              "      <td>0</td>\n",
              "      <td>0</td>\n",
              "      <td>0</td>\n",
              "      <td>276</td>\n",
              "      <td>250.01</td>\n",
              "      <td>255</td>\n",
              "      <td>9</td>\n",
              "      <td>None</td>\n",
              "      <td>None</td>\n",
              "      <td>No</td>\n",
              "      <td>No</td>\n",
              "      <td>No</td>\n",
              "      <td>No</td>\n",
              "      <td>No</td>\n",
              "      <td>No</td>\n",
              "      <td>No</td>\n",
              "      <td>No</td>\n",
              "      <td>No</td>\n",
              "      <td>No</td>\n",
              "      <td>No</td>\n",
              "      <td>No</td>\n",
              "      <td>No</td>\n",
              "      <td>No</td>\n",
              "      <td>No</td>\n",
              "      <td>No</td>\n",
              "      <td>No</td>\n",
              "      <td>Up</td>\n",
              "      <td>No</td>\n",
              "      <td>No</td>\n",
              "      <td>No</td>\n",
              "      <td>No</td>\n",
              "      <td>No</td>\n",
              "      <td>Ch</td>\n",
              "      <td>Yes</td>\n",
              "      <td>&gt;30</td>\n",
              "    </tr>\n",
              "    <tr>\n",
              "      <th>2</th>\n",
              "      <td>64410</td>\n",
              "      <td>86047875</td>\n",
              "      <td>AfricanAmerican</td>\n",
              "      <td>Female</td>\n",
              "      <td>[20-30)</td>\n",
              "      <td>?</td>\n",
              "      <td>1</td>\n",
              "      <td>1</td>\n",
              "      <td>7</td>\n",
              "      <td>2</td>\n",
              "      <td>?</td>\n",
              "      <td>?</td>\n",
              "      <td>11</td>\n",
              "      <td>5</td>\n",
              "      <td>13</td>\n",
              "      <td>2</td>\n",
              "      <td>0</td>\n",
              "      <td>1</td>\n",
              "      <td>648</td>\n",
              "      <td>250</td>\n",
              "      <td>V27</td>\n",
              "      <td>6</td>\n",
              "      <td>None</td>\n",
              "      <td>None</td>\n",
              "      <td>No</td>\n",
              "      <td>No</td>\n",
              "      <td>No</td>\n",
              "      <td>No</td>\n",
              "      <td>No</td>\n",
              "      <td>No</td>\n",
              "      <td>Steady</td>\n",
              "      <td>No</td>\n",
              "      <td>No</td>\n",
              "      <td>No</td>\n",
              "      <td>No</td>\n",
              "      <td>No</td>\n",
              "      <td>No</td>\n",
              "      <td>No</td>\n",
              "      <td>No</td>\n",
              "      <td>No</td>\n",
              "      <td>No</td>\n",
              "      <td>No</td>\n",
              "      <td>No</td>\n",
              "      <td>No</td>\n",
              "      <td>No</td>\n",
              "      <td>No</td>\n",
              "      <td>No</td>\n",
              "      <td>No</td>\n",
              "      <td>Yes</td>\n",
              "      <td>NO</td>\n",
              "    </tr>\n",
              "    <tr>\n",
              "      <th>3</th>\n",
              "      <td>500364</td>\n",
              "      <td>82442376</td>\n",
              "      <td>Caucasian</td>\n",
              "      <td>Male</td>\n",
              "      <td>[30-40)</td>\n",
              "      <td>?</td>\n",
              "      <td>1</td>\n",
              "      <td>1</td>\n",
              "      <td>7</td>\n",
              "      <td>2</td>\n",
              "      <td>?</td>\n",
              "      <td>?</td>\n",
              "      <td>44</td>\n",
              "      <td>1</td>\n",
              "      <td>16</td>\n",
              "      <td>0</td>\n",
              "      <td>0</td>\n",
              "      <td>0</td>\n",
              "      <td>8</td>\n",
              "      <td>250.43</td>\n",
              "      <td>403</td>\n",
              "      <td>7</td>\n",
              "      <td>None</td>\n",
              "      <td>None</td>\n",
              "      <td>No</td>\n",
              "      <td>No</td>\n",
              "      <td>No</td>\n",
              "      <td>No</td>\n",
              "      <td>No</td>\n",
              "      <td>No</td>\n",
              "      <td>No</td>\n",
              "      <td>No</td>\n",
              "      <td>No</td>\n",
              "      <td>No</td>\n",
              "      <td>No</td>\n",
              "      <td>No</td>\n",
              "      <td>No</td>\n",
              "      <td>No</td>\n",
              "      <td>No</td>\n",
              "      <td>No</td>\n",
              "      <td>No</td>\n",
              "      <td>Up</td>\n",
              "      <td>No</td>\n",
              "      <td>No</td>\n",
              "      <td>No</td>\n",
              "      <td>No</td>\n",
              "      <td>No</td>\n",
              "      <td>Ch</td>\n",
              "      <td>Yes</td>\n",
              "      <td>NO</td>\n",
              "    </tr>\n",
              "    <tr>\n",
              "      <th>4</th>\n",
              "      <td>16680</td>\n",
              "      <td>42519267</td>\n",
              "      <td>Caucasian</td>\n",
              "      <td>Male</td>\n",
              "      <td>[40-50)</td>\n",
              "      <td>?</td>\n",
              "      <td>1</td>\n",
              "      <td>1</td>\n",
              "      <td>7</td>\n",
              "      <td>1</td>\n",
              "      <td>?</td>\n",
              "      <td>?</td>\n",
              "      <td>51</td>\n",
              "      <td>0</td>\n",
              "      <td>8</td>\n",
              "      <td>0</td>\n",
              "      <td>0</td>\n",
              "      <td>0</td>\n",
              "      <td>197</td>\n",
              "      <td>157</td>\n",
              "      <td>250</td>\n",
              "      <td>5</td>\n",
              "      <td>None</td>\n",
              "      <td>None</td>\n",
              "      <td>No</td>\n",
              "      <td>No</td>\n",
              "      <td>No</td>\n",
              "      <td>No</td>\n",
              "      <td>No</td>\n",
              "      <td>No</td>\n",
              "      <td>Steady</td>\n",
              "      <td>No</td>\n",
              "      <td>No</td>\n",
              "      <td>No</td>\n",
              "      <td>No</td>\n",
              "      <td>No</td>\n",
              "      <td>No</td>\n",
              "      <td>No</td>\n",
              "      <td>No</td>\n",
              "      <td>No</td>\n",
              "      <td>No</td>\n",
              "      <td>Steady</td>\n",
              "      <td>No</td>\n",
              "      <td>No</td>\n",
              "      <td>No</td>\n",
              "      <td>No</td>\n",
              "      <td>No</td>\n",
              "      <td>Ch</td>\n",
              "      <td>Yes</td>\n",
              "      <td>NO</td>\n",
              "    </tr>\n",
              "    <tr>\n",
              "      <th>...</th>\n",
              "      <td>...</td>\n",
              "      <td>...</td>\n",
              "      <td>...</td>\n",
              "      <td>...</td>\n",
              "      <td>...</td>\n",
              "      <td>...</td>\n",
              "      <td>...</td>\n",
              "      <td>...</td>\n",
              "      <td>...</td>\n",
              "      <td>...</td>\n",
              "      <td>...</td>\n",
              "      <td>...</td>\n",
              "      <td>...</td>\n",
              "      <td>...</td>\n",
              "      <td>...</td>\n",
              "      <td>...</td>\n",
              "      <td>...</td>\n",
              "      <td>...</td>\n",
              "      <td>...</td>\n",
              "      <td>...</td>\n",
              "      <td>...</td>\n",
              "      <td>...</td>\n",
              "      <td>...</td>\n",
              "      <td>...</td>\n",
              "      <td>...</td>\n",
              "      <td>...</td>\n",
              "      <td>...</td>\n",
              "      <td>...</td>\n",
              "      <td>...</td>\n",
              "      <td>...</td>\n",
              "      <td>...</td>\n",
              "      <td>...</td>\n",
              "      <td>...</td>\n",
              "      <td>...</td>\n",
              "      <td>...</td>\n",
              "      <td>...</td>\n",
              "      <td>...</td>\n",
              "      <td>...</td>\n",
              "      <td>...</td>\n",
              "      <td>...</td>\n",
              "      <td>...</td>\n",
              "      <td>...</td>\n",
              "      <td>...</td>\n",
              "      <td>...</td>\n",
              "      <td>...</td>\n",
              "      <td>...</td>\n",
              "      <td>...</td>\n",
              "      <td>...</td>\n",
              "      <td>...</td>\n",
              "      <td>...</td>\n",
              "    </tr>\n",
              "    <tr>\n",
              "      <th>101761</th>\n",
              "      <td>443847548</td>\n",
              "      <td>100162476</td>\n",
              "      <td>AfricanAmerican</td>\n",
              "      <td>Male</td>\n",
              "      <td>[70-80)</td>\n",
              "      <td>?</td>\n",
              "      <td>1</td>\n",
              "      <td>3</td>\n",
              "      <td>7</td>\n",
              "      <td>3</td>\n",
              "      <td>MC</td>\n",
              "      <td>?</td>\n",
              "      <td>51</td>\n",
              "      <td>0</td>\n",
              "      <td>16</td>\n",
              "      <td>0</td>\n",
              "      <td>0</td>\n",
              "      <td>0</td>\n",
              "      <td>250.13</td>\n",
              "      <td>291</td>\n",
              "      <td>458</td>\n",
              "      <td>9</td>\n",
              "      <td>None</td>\n",
              "      <td>&gt;8</td>\n",
              "      <td>Steady</td>\n",
              "      <td>No</td>\n",
              "      <td>No</td>\n",
              "      <td>No</td>\n",
              "      <td>No</td>\n",
              "      <td>No</td>\n",
              "      <td>No</td>\n",
              "      <td>No</td>\n",
              "      <td>No</td>\n",
              "      <td>No</td>\n",
              "      <td>No</td>\n",
              "      <td>No</td>\n",
              "      <td>No</td>\n",
              "      <td>No</td>\n",
              "      <td>No</td>\n",
              "      <td>No</td>\n",
              "      <td>No</td>\n",
              "      <td>Down</td>\n",
              "      <td>No</td>\n",
              "      <td>No</td>\n",
              "      <td>No</td>\n",
              "      <td>No</td>\n",
              "      <td>No</td>\n",
              "      <td>Ch</td>\n",
              "      <td>Yes</td>\n",
              "      <td>&gt;30</td>\n",
              "    </tr>\n",
              "    <tr>\n",
              "      <th>101762</th>\n",
              "      <td>443847782</td>\n",
              "      <td>74694222</td>\n",
              "      <td>AfricanAmerican</td>\n",
              "      <td>Female</td>\n",
              "      <td>[80-90)</td>\n",
              "      <td>?</td>\n",
              "      <td>1</td>\n",
              "      <td>4</td>\n",
              "      <td>5</td>\n",
              "      <td>5</td>\n",
              "      <td>MC</td>\n",
              "      <td>?</td>\n",
              "      <td>33</td>\n",
              "      <td>3</td>\n",
              "      <td>18</td>\n",
              "      <td>0</td>\n",
              "      <td>0</td>\n",
              "      <td>1</td>\n",
              "      <td>560</td>\n",
              "      <td>276</td>\n",
              "      <td>787</td>\n",
              "      <td>9</td>\n",
              "      <td>None</td>\n",
              "      <td>None</td>\n",
              "      <td>No</td>\n",
              "      <td>No</td>\n",
              "      <td>No</td>\n",
              "      <td>No</td>\n",
              "      <td>No</td>\n",
              "      <td>No</td>\n",
              "      <td>No</td>\n",
              "      <td>No</td>\n",
              "      <td>No</td>\n",
              "      <td>No</td>\n",
              "      <td>No</td>\n",
              "      <td>No</td>\n",
              "      <td>No</td>\n",
              "      <td>No</td>\n",
              "      <td>No</td>\n",
              "      <td>No</td>\n",
              "      <td>No</td>\n",
              "      <td>Steady</td>\n",
              "      <td>No</td>\n",
              "      <td>No</td>\n",
              "      <td>No</td>\n",
              "      <td>No</td>\n",
              "      <td>No</td>\n",
              "      <td>No</td>\n",
              "      <td>Yes</td>\n",
              "      <td>NO</td>\n",
              "    </tr>\n",
              "    <tr>\n",
              "      <th>101763</th>\n",
              "      <td>443854148</td>\n",
              "      <td>41088789</td>\n",
              "      <td>Caucasian</td>\n",
              "      <td>Male</td>\n",
              "      <td>[70-80)</td>\n",
              "      <td>?</td>\n",
              "      <td>1</td>\n",
              "      <td>1</td>\n",
              "      <td>7</td>\n",
              "      <td>1</td>\n",
              "      <td>MC</td>\n",
              "      <td>?</td>\n",
              "      <td>53</td>\n",
              "      <td>0</td>\n",
              "      <td>9</td>\n",
              "      <td>1</td>\n",
              "      <td>0</td>\n",
              "      <td>0</td>\n",
              "      <td>38</td>\n",
              "      <td>590</td>\n",
              "      <td>296</td>\n",
              "      <td>13</td>\n",
              "      <td>None</td>\n",
              "      <td>None</td>\n",
              "      <td>Steady</td>\n",
              "      <td>No</td>\n",
              "      <td>No</td>\n",
              "      <td>No</td>\n",
              "      <td>No</td>\n",
              "      <td>No</td>\n",
              "      <td>No</td>\n",
              "      <td>No</td>\n",
              "      <td>No</td>\n",
              "      <td>No</td>\n",
              "      <td>No</td>\n",
              "      <td>No</td>\n",
              "      <td>No</td>\n",
              "      <td>No</td>\n",
              "      <td>No</td>\n",
              "      <td>No</td>\n",
              "      <td>No</td>\n",
              "      <td>Down</td>\n",
              "      <td>No</td>\n",
              "      <td>No</td>\n",
              "      <td>No</td>\n",
              "      <td>No</td>\n",
              "      <td>No</td>\n",
              "      <td>Ch</td>\n",
              "      <td>Yes</td>\n",
              "      <td>NO</td>\n",
              "    </tr>\n",
              "    <tr>\n",
              "      <th>101764</th>\n",
              "      <td>443857166</td>\n",
              "      <td>31693671</td>\n",
              "      <td>Caucasian</td>\n",
              "      <td>Female</td>\n",
              "      <td>[80-90)</td>\n",
              "      <td>?</td>\n",
              "      <td>2</td>\n",
              "      <td>3</td>\n",
              "      <td>7</td>\n",
              "      <td>10</td>\n",
              "      <td>MC</td>\n",
              "      <td>Surgery-General</td>\n",
              "      <td>45</td>\n",
              "      <td>2</td>\n",
              "      <td>21</td>\n",
              "      <td>0</td>\n",
              "      <td>0</td>\n",
              "      <td>1</td>\n",
              "      <td>996</td>\n",
              "      <td>285</td>\n",
              "      <td>998</td>\n",
              "      <td>9</td>\n",
              "      <td>None</td>\n",
              "      <td>None</td>\n",
              "      <td>No</td>\n",
              "      <td>No</td>\n",
              "      <td>No</td>\n",
              "      <td>No</td>\n",
              "      <td>No</td>\n",
              "      <td>No</td>\n",
              "      <td>Steady</td>\n",
              "      <td>No</td>\n",
              "      <td>No</td>\n",
              "      <td>Steady</td>\n",
              "      <td>No</td>\n",
              "      <td>No</td>\n",
              "      <td>No</td>\n",
              "      <td>No</td>\n",
              "      <td>No</td>\n",
              "      <td>No</td>\n",
              "      <td>No</td>\n",
              "      <td>Up</td>\n",
              "      <td>No</td>\n",
              "      <td>No</td>\n",
              "      <td>No</td>\n",
              "      <td>No</td>\n",
              "      <td>No</td>\n",
              "      <td>Ch</td>\n",
              "      <td>Yes</td>\n",
              "      <td>NO</td>\n",
              "    </tr>\n",
              "    <tr>\n",
              "      <th>101765</th>\n",
              "      <td>443867222</td>\n",
              "      <td>175429310</td>\n",
              "      <td>Caucasian</td>\n",
              "      <td>Male</td>\n",
              "      <td>[70-80)</td>\n",
              "      <td>?</td>\n",
              "      <td>1</td>\n",
              "      <td>1</td>\n",
              "      <td>7</td>\n",
              "      <td>6</td>\n",
              "      <td>?</td>\n",
              "      <td>?</td>\n",
              "      <td>13</td>\n",
              "      <td>3</td>\n",
              "      <td>3</td>\n",
              "      <td>0</td>\n",
              "      <td>0</td>\n",
              "      <td>0</td>\n",
              "      <td>530</td>\n",
              "      <td>530</td>\n",
              "      <td>787</td>\n",
              "      <td>9</td>\n",
              "      <td>None</td>\n",
              "      <td>None</td>\n",
              "      <td>No</td>\n",
              "      <td>No</td>\n",
              "      <td>No</td>\n",
              "      <td>No</td>\n",
              "      <td>No</td>\n",
              "      <td>No</td>\n",
              "      <td>No</td>\n",
              "      <td>No</td>\n",
              "      <td>No</td>\n",
              "      <td>No</td>\n",
              "      <td>No</td>\n",
              "      <td>No</td>\n",
              "      <td>No</td>\n",
              "      <td>No</td>\n",
              "      <td>No</td>\n",
              "      <td>No</td>\n",
              "      <td>No</td>\n",
              "      <td>No</td>\n",
              "      <td>No</td>\n",
              "      <td>No</td>\n",
              "      <td>No</td>\n",
              "      <td>No</td>\n",
              "      <td>No</td>\n",
              "      <td>No</td>\n",
              "      <td>No</td>\n",
              "      <td>NO</td>\n",
              "    </tr>\n",
              "  </tbody>\n",
              "</table>\n",
              "<p>101766 rows × 50 columns</p>\n",
              "</div>"
            ],
            "text/plain": [
              "        encounter_id  patient_nbr  ... diabetesMed readmitted\n",
              "0            2278392      8222157  ...          No         NO\n",
              "1             149190     55629189  ...         Yes        >30\n",
              "2              64410     86047875  ...         Yes         NO\n",
              "3             500364     82442376  ...         Yes         NO\n",
              "4              16680     42519267  ...         Yes         NO\n",
              "...              ...          ...  ...         ...        ...\n",
              "101761     443847548    100162476  ...         Yes        >30\n",
              "101762     443847782     74694222  ...         Yes         NO\n",
              "101763     443854148     41088789  ...         Yes         NO\n",
              "101764     443857166     31693671  ...         Yes         NO\n",
              "101765     443867222    175429310  ...          No         NO\n",
              "\n",
              "[101766 rows x 50 columns]"
            ]
          },
          "metadata": {
            "tags": []
          },
          "execution_count": 76
        }
      ]
    },
    {
      "cell_type": "code",
      "metadata": {
        "id": "CJWati4hMYrg",
        "colab_type": "code",
        "colab": {
          "base_uri": "https://localhost:8080/",
          "height": 255
        },
        "outputId": "050d2163-44d8-4a60-dd05-94b15b6b3f9e"
      },
      "source": [
        "#These are the Independent and Dependent variables\n",
        "x=data_set.iloc[:, [2, 3, 9, 12, 13, 14, 21, 22, 23, 24, 25, 26, 27, 28, 29, 30, 31, 32, 33, 34, 35, 36, 37, 38, 39, 40, 41, 42, 43, 44, 46]].values\n",
        "y=data_set.iloc[:, 47:48].values\n",
        "print(x)\n",
        "print(y)"
      ],
      "execution_count": 77,
      "outputs": [
        {
          "output_type": "stream",
          "text": [
            "[['Caucasian' 'Female' 1 ... 'No' 'No' 'No']\n",
            " ['Caucasian' 'Female' 3 ... 'No' 'No' 'No']\n",
            " ['AfricanAmerican' 'Female' 2 ... 'No' 'No' 'No']\n",
            " ...\n",
            " ['Caucasian' 'Male' 1 ... 'No' 'No' 'No']\n",
            " ['Caucasian' 'Female' 10 ... 'No' 'No' 'No']\n",
            " ['Caucasian' 'Male' 6 ... 'No' 'No' 'No']]\n",
            "[['No']\n",
            " ['Ch']\n",
            " ['No']\n",
            " ...\n",
            " ['Ch']\n",
            " ['Ch']\n",
            " ['No']]\n"
          ],
          "name": "stdout"
        }
      ]
    },
    {
      "cell_type": "code",
      "metadata": {
        "id": "YTL35BlAMl71",
        "colab_type": "code",
        "colab": {
          "base_uri": "https://localhost:8080/",
          "height": 136
        },
        "outputId": "e7753672-bbb3-4294-8ec4-fa093da4ab23"
      },
      "source": [
        "#This is to change the Race into a number.\n",
        "le=LabelEncoder()\n",
        "x[:,0]=le.fit_transform(x[:,0])\n",
        "print(x)"
      ],
      "execution_count": 78,
      "outputs": [
        {
          "output_type": "stream",
          "text": [
            "[[3 'Female' 1 ... 'No' 'No' 'No']\n",
            " [3 'Female' 3 ... 'No' 'No' 'No']\n",
            " [1 'Female' 2 ... 'No' 'No' 'No']\n",
            " ...\n",
            " [3 'Male' 1 ... 'No' 'No' 'No']\n",
            " [3 'Female' 10 ... 'No' 'No' 'No']\n",
            " [3 'Male' 6 ... 'No' 'No' 'No']]\n"
          ],
          "name": "stdout"
        }
      ]
    },
    {
      "cell_type": "code",
      "metadata": {
        "id": "9cgovOZiMss4",
        "colab_type": "code",
        "colab": {
          "base_uri": "https://localhost:8080/",
          "height": 136
        },
        "outputId": "a4a8b49a-0e42-4691-a13a-baa803b7f73b"
      },
      "source": [
        "#This is to change the Gender into a number.\n",
        "le=LabelEncoder()\n",
        "x[:,1]=le.fit_transform(x[:,1])\n",
        "print(x)"
      ],
      "execution_count": 79,
      "outputs": [
        {
          "output_type": "stream",
          "text": [
            "[[3 0 1 ... 'No' 'No' 'No']\n",
            " [3 0 3 ... 'No' 'No' 'No']\n",
            " [1 0 2 ... 'No' 'No' 'No']\n",
            " ...\n",
            " [3 1 1 ... 'No' 'No' 'No']\n",
            " [3 0 10 ... 'No' 'No' 'No']\n",
            " [3 1 6 ... 'No' 'No' 'No']]\n"
          ],
          "name": "stdout"
        }
      ]
    },
    {
      "cell_type": "code",
      "metadata": {
        "id": "lAJO8KfcMx3O",
        "colab_type": "code",
        "colab": {
          "base_uri": "https://localhost:8080/",
          "height": 136
        },
        "outputId": "f02ae5e4-e6ed-4d57-8fbf-2124ebe77ed4"
      },
      "source": [
        "#This is to change the max_glu_serum into a number.\n",
        "le=LabelEncoder()\n",
        "x[:,6]=le.fit_transform(x[:,6])\n",
        "print(x)"
      ],
      "execution_count": 80,
      "outputs": [
        {
          "output_type": "stream",
          "text": [
            "[[3 0 1 ... 'No' 'No' 'No']\n",
            " [3 0 3 ... 'No' 'No' 'No']\n",
            " [1 0 2 ... 'No' 'No' 'No']\n",
            " ...\n",
            " [3 1 1 ... 'No' 'No' 'No']\n",
            " [3 0 10 ... 'No' 'No' 'No']\n",
            " [3 1 6 ... 'No' 'No' 'No']]\n"
          ],
          "name": "stdout"
        }
      ]
    },
    {
      "cell_type": "code",
      "metadata": {
        "id": "NpEJfZC0M3t1",
        "colab_type": "code",
        "colab": {
          "base_uri": "https://localhost:8080/",
          "height": 136
        },
        "outputId": "be6f6dd3-47b6-42d5-fc23-5414756676dd"
      },
      "source": [
        "#This is to change the Position into a number.\n",
        "le=LabelEncoder()\n",
        "x[:,7]=le.fit_transform(x[:,7])\n",
        "print(x)"
      ],
      "execution_count": 81,
      "outputs": [
        {
          "output_type": "stream",
          "text": [
            "[[3 0 1 ... 'No' 'No' 'No']\n",
            " [3 0 3 ... 'No' 'No' 'No']\n",
            " [1 0 2 ... 'No' 'No' 'No']\n",
            " ...\n",
            " [3 1 1 ... 'No' 'No' 'No']\n",
            " [3 0 10 ... 'No' 'No' 'No']\n",
            " [3 1 6 ... 'No' 'No' 'No']]\n"
          ],
          "name": "stdout"
        }
      ]
    },
    {
      "cell_type": "code",
      "metadata": {
        "id": "xhpPF5JvNC3C",
        "colab_type": "code",
        "colab": {
          "base_uri": "https://localhost:8080/",
          "height": 136
        },
        "outputId": "e85837b0-583e-4251-bb25-275183b61c5c"
      },
      "source": [
        "#This is to change the Position into a number.\n",
        "le=LabelEncoder()\n",
        "x[:,8]=le.fit_transform(x[:, 8])\n",
        "print(x)"
      ],
      "execution_count": 82,
      "outputs": [
        {
          "output_type": "stream",
          "text": [
            "[[3 0 1 ... 'No' 'No' 'No']\n",
            " [3 0 3 ... 'No' 'No' 'No']\n",
            " [1 0 2 ... 'No' 'No' 'No']\n",
            " ...\n",
            " [3 1 1 ... 'No' 'No' 'No']\n",
            " [3 0 10 ... 'No' 'No' 'No']\n",
            " [3 1 6 ... 'No' 'No' 'No']]\n"
          ],
          "name": "stdout"
        }
      ]
    },
    {
      "cell_type": "code",
      "metadata": {
        "id": "sO48dIC-NI7r",
        "colab_type": "code",
        "colab": {
          "base_uri": "https://localhost:8080/",
          "height": 136
        },
        "outputId": "7e04685a-5a1a-4a88-a1fe-d89764edf97e"
      },
      "source": [
        "#This is to change the Position into a number.\n",
        "le=LabelEncoder()\n",
        "x[:,9]=le.fit_transform(x[:,9])\n",
        "print(x)"
      ],
      "execution_count": 83,
      "outputs": [
        {
          "output_type": "stream",
          "text": [
            "[[3 0 1 ... 'No' 'No' 'No']\n",
            " [3 0 3 ... 'No' 'No' 'No']\n",
            " [1 0 2 ... 'No' 'No' 'No']\n",
            " ...\n",
            " [3 1 1 ... 'No' 'No' 'No']\n",
            " [3 0 10 ... 'No' 'No' 'No']\n",
            " [3 1 6 ... 'No' 'No' 'No']]\n"
          ],
          "name": "stdout"
        }
      ]
    },
    {
      "cell_type": "code",
      "metadata": {
        "id": "GzUaJn7-NN76",
        "colab_type": "code",
        "colab": {
          "base_uri": "https://localhost:8080/",
          "height": 136
        },
        "outputId": "a6d82339-e18d-4958-9c13-77ce3edb2b06"
      },
      "source": [
        "#This is to change the Position into a number.\n",
        "le=LabelEncoder()\n",
        "x[:,10]=le.fit_transform(x[:,10])\n",
        "print(x)"
      ],
      "execution_count": 84,
      "outputs": [
        {
          "output_type": "stream",
          "text": [
            "[[3 0 1 ... 'No' 'No' 'No']\n",
            " [3 0 3 ... 'No' 'No' 'No']\n",
            " [1 0 2 ... 'No' 'No' 'No']\n",
            " ...\n",
            " [3 1 1 ... 'No' 'No' 'No']\n",
            " [3 0 10 ... 'No' 'No' 'No']\n",
            " [3 1 6 ... 'No' 'No' 'No']]\n"
          ],
          "name": "stdout"
        }
      ]
    },
    {
      "cell_type": "code",
      "metadata": {
        "id": "P7ibiE8RNRwS",
        "colab_type": "code",
        "colab": {
          "base_uri": "https://localhost:8080/",
          "height": 136
        },
        "outputId": "a9d1f064-0c48-413a-c8ba-7eafb173c5b3"
      },
      "source": [
        "#This is to change the Position into a number.\n",
        "le=LabelEncoder()\n",
        "x[:,11]=le.fit_transform(x[:,11])\n",
        "print(x)"
      ],
      "execution_count": 85,
      "outputs": [
        {
          "output_type": "stream",
          "text": [
            "[[3 0 1 ... 'No' 'No' 'No']\n",
            " [3 0 3 ... 'No' 'No' 'No']\n",
            " [1 0 2 ... 'No' 'No' 'No']\n",
            " ...\n",
            " [3 1 1 ... 'No' 'No' 'No']\n",
            " [3 0 10 ... 'No' 'No' 'No']\n",
            " [3 1 6 ... 'No' 'No' 'No']]\n"
          ],
          "name": "stdout"
        }
      ]
    },
    {
      "cell_type": "code",
      "metadata": {
        "id": "aYNvtWyfNWeK",
        "colab_type": "code",
        "colab": {
          "base_uri": "https://localhost:8080/",
          "height": 136
        },
        "outputId": "3825530e-6a0c-4320-884d-72ac844f8666"
      },
      "source": [
        "#This is to change the Position into a number.\n",
        "le=LabelEncoder()\n",
        "x[:,12]=le.fit_transform(x[:,12])\n",
        "print(x)"
      ],
      "execution_count": 86,
      "outputs": [
        {
          "output_type": "stream",
          "text": [
            "[[3 0 1 ... 'No' 'No' 'No']\n",
            " [3 0 3 ... 'No' 'No' 'No']\n",
            " [1 0 2 ... 'No' 'No' 'No']\n",
            " ...\n",
            " [3 1 1 ... 'No' 'No' 'No']\n",
            " [3 0 10 ... 'No' 'No' 'No']\n",
            " [3 1 6 ... 'No' 'No' 'No']]\n"
          ],
          "name": "stdout"
        }
      ]
    },
    {
      "cell_type": "code",
      "metadata": {
        "id": "eg8wmrf5NbDF",
        "colab_type": "code",
        "colab": {
          "base_uri": "https://localhost:8080/",
          "height": 136
        },
        "outputId": "892ba7ab-162a-4caf-9d47-5a97b524dc8d"
      },
      "source": [
        "#This is to change the Position into a number.\n",
        "le=LabelEncoder()\n",
        "x[:,13]=le.fit_transform(x[:,13])\n",
        "print(x)"
      ],
      "execution_count": 87,
      "outputs": [
        {
          "output_type": "stream",
          "text": [
            "[[3 0 1 ... 'No' 'No' 'No']\n",
            " [3 0 3 ... 'No' 'No' 'No']\n",
            " [1 0 2 ... 'No' 'No' 'No']\n",
            " ...\n",
            " [3 1 1 ... 'No' 'No' 'No']\n",
            " [3 0 10 ... 'No' 'No' 'No']\n",
            " [3 1 6 ... 'No' 'No' 'No']]\n"
          ],
          "name": "stdout"
        }
      ]
    },
    {
      "cell_type": "code",
      "metadata": {
        "id": "cduME1OpNfAK",
        "colab_type": "code",
        "colab": {
          "base_uri": "https://localhost:8080/",
          "height": 136
        },
        "outputId": "fde0b27a-b7c2-4ba4-acfd-1ca8d979ad02"
      },
      "source": [
        "#This is to change the Position into a number.\n",
        "le=LabelEncoder()\n",
        "x[:,14]=le.fit_transform(x[:,14])\n",
        "print(x)"
      ],
      "execution_count": 88,
      "outputs": [
        {
          "output_type": "stream",
          "text": [
            "[[3 0 1 ... 'No' 'No' 'No']\n",
            " [3 0 3 ... 'No' 'No' 'No']\n",
            " [1 0 2 ... 'No' 'No' 'No']\n",
            " ...\n",
            " [3 1 1 ... 'No' 'No' 'No']\n",
            " [3 0 10 ... 'No' 'No' 'No']\n",
            " [3 1 6 ... 'No' 'No' 'No']]\n"
          ],
          "name": "stdout"
        }
      ]
    },
    {
      "cell_type": "code",
      "metadata": {
        "id": "Ib-beK5_Njf5",
        "colab_type": "code",
        "colab": {
          "base_uri": "https://localhost:8080/",
          "height": 136
        },
        "outputId": "319121b2-e1b3-4ea4-aedf-6585eec169a5"
      },
      "source": [
        "#This is to change the Position into a number.\n",
        "le=LabelEncoder()\n",
        "x[:,15]=le.fit_transform(x[:,15])\n",
        "print(x)"
      ],
      "execution_count": 89,
      "outputs": [
        {
          "output_type": "stream",
          "text": [
            "[[3 0 1 ... 'No' 'No' 'No']\n",
            " [3 0 3 ... 'No' 'No' 'No']\n",
            " [1 0 2 ... 'No' 'No' 'No']\n",
            " ...\n",
            " [3 1 1 ... 'No' 'No' 'No']\n",
            " [3 0 10 ... 'No' 'No' 'No']\n",
            " [3 1 6 ... 'No' 'No' 'No']]\n"
          ],
          "name": "stdout"
        }
      ]
    },
    {
      "cell_type": "code",
      "metadata": {
        "id": "Sw7j7y6BNwJC",
        "colab_type": "code",
        "colab": {
          "base_uri": "https://localhost:8080/",
          "height": 136
        },
        "outputId": "ba3477ca-b584-485f-d7d5-7a5877998d3b"
      },
      "source": [
        "#This is to change the Position into a number.\n",
        "le=LabelEncoder()\n",
        "x[:,16]=le.fit_transform(x[:,16])\n",
        "print(x)"
      ],
      "execution_count": 90,
      "outputs": [
        {
          "output_type": "stream",
          "text": [
            "[[3 0 1 ... 'No' 'No' 'No']\n",
            " [3 0 3 ... 'No' 'No' 'No']\n",
            " [1 0 2 ... 'No' 'No' 'No']\n",
            " ...\n",
            " [3 1 1 ... 'No' 'No' 'No']\n",
            " [3 0 10 ... 'No' 'No' 'No']\n",
            " [3 1 6 ... 'No' 'No' 'No']]\n"
          ],
          "name": "stdout"
        }
      ]
    },
    {
      "cell_type": "code",
      "metadata": {
        "id": "4sXZJcJCN2cv",
        "colab_type": "code",
        "colab": {
          "base_uri": "https://localhost:8080/",
          "height": 136
        },
        "outputId": "cb3de53c-15fa-4e53-85b5-fc6c102dc9a4"
      },
      "source": [
        "#This is to change the Position into a number.\n",
        "le=LabelEncoder()\n",
        "x[:,17]=le.fit_transform(x[:,17])\n",
        "print(x)"
      ],
      "execution_count": 91,
      "outputs": [
        {
          "output_type": "stream",
          "text": [
            "[[3 0 1 ... 'No' 'No' 'No']\n",
            " [3 0 3 ... 'No' 'No' 'No']\n",
            " [1 0 2 ... 'No' 'No' 'No']\n",
            " ...\n",
            " [3 1 1 ... 'No' 'No' 'No']\n",
            " [3 0 10 ... 'No' 'No' 'No']\n",
            " [3 1 6 ... 'No' 'No' 'No']]\n"
          ],
          "name": "stdout"
        }
      ]
    },
    {
      "cell_type": "code",
      "metadata": {
        "id": "OgT_SyueN9ai",
        "colab_type": "code",
        "colab": {
          "base_uri": "https://localhost:8080/",
          "height": 136
        },
        "outputId": "ce37b62b-0311-446f-a2ed-b1fb97a46b04"
      },
      "source": [
        "#This is to change the Position into a number.\n",
        "le=LabelEncoder()\n",
        "x[:,18]=le.fit_transform(x[:,18])\n",
        "print(x)"
      ],
      "execution_count": 92,
      "outputs": [
        {
          "output_type": "stream",
          "text": [
            "[[3 0 1 ... 'No' 'No' 'No']\n",
            " [3 0 3 ... 'No' 'No' 'No']\n",
            " [1 0 2 ... 'No' 'No' 'No']\n",
            " ...\n",
            " [3 1 1 ... 'No' 'No' 'No']\n",
            " [3 0 10 ... 'No' 'No' 'No']\n",
            " [3 1 6 ... 'No' 'No' 'No']]\n"
          ],
          "name": "stdout"
        }
      ]
    },
    {
      "cell_type": "code",
      "metadata": {
        "id": "VPBkLtkBOFR1",
        "colab_type": "code",
        "colab": {
          "base_uri": "https://localhost:8080/",
          "height": 136
        },
        "outputId": "130ad2db-6103-489b-f69a-ea8ef4ac4567"
      },
      "source": [
        "#This is to change the Position into a number.\n",
        "le=LabelEncoder()\n",
        "x[:,19]=le.fit_transform(x[:,19])\n",
        "print(x)"
      ],
      "execution_count": 93,
      "outputs": [
        {
          "output_type": "stream",
          "text": [
            "[[3 0 1 ... 'No' 'No' 'No']\n",
            " [3 0 3 ... 'No' 'No' 'No']\n",
            " [1 0 2 ... 'No' 'No' 'No']\n",
            " ...\n",
            " [3 1 1 ... 'No' 'No' 'No']\n",
            " [3 0 10 ... 'No' 'No' 'No']\n",
            " [3 1 6 ... 'No' 'No' 'No']]\n"
          ],
          "name": "stdout"
        }
      ]
    },
    {
      "cell_type": "code",
      "metadata": {
        "id": "YtQwWYodOSWy",
        "colab_type": "code",
        "colab": {
          "base_uri": "https://localhost:8080/",
          "height": 136
        },
        "outputId": "321988fa-b3ec-4f67-82c5-aca4a4676ffd"
      },
      "source": [
        "#This is to change the Position into a number.\n",
        "le=LabelEncoder()\n",
        "x[:,20]=le.fit_transform(x[:,20])\n",
        "print(x)"
      ],
      "execution_count": 94,
      "outputs": [
        {
          "output_type": "stream",
          "text": [
            "[[3 0 1 ... 'No' 'No' 'No']\n",
            " [3 0 3 ... 'No' 'No' 'No']\n",
            " [1 0 2 ... 'No' 'No' 'No']\n",
            " ...\n",
            " [3 1 1 ... 'No' 'No' 'No']\n",
            " [3 0 10 ... 'No' 'No' 'No']\n",
            " [3 1 6 ... 'No' 'No' 'No']]\n"
          ],
          "name": "stdout"
        }
      ]
    },
    {
      "cell_type": "code",
      "metadata": {
        "id": "6Oqd52gVOWqB",
        "colab_type": "code",
        "colab": {
          "base_uri": "https://localhost:8080/",
          "height": 136
        },
        "outputId": "73213587-9182-4690-fd67-24a054e2abb6"
      },
      "source": [
        "#This is to change the Position into a number.\n",
        "le=LabelEncoder()\n",
        "x[:,21]=le.fit_transform(x[:,21])\n",
        "print(x)"
      ],
      "execution_count": 95,
      "outputs": [
        {
          "output_type": "stream",
          "text": [
            "[[3 0 1 ... 'No' 'No' 'No']\n",
            " [3 0 3 ... 'No' 'No' 'No']\n",
            " [1 0 2 ... 'No' 'No' 'No']\n",
            " ...\n",
            " [3 1 1 ... 'No' 'No' 'No']\n",
            " [3 0 10 ... 'No' 'No' 'No']\n",
            " [3 1 6 ... 'No' 'No' 'No']]\n"
          ],
          "name": "stdout"
        }
      ]
    },
    {
      "cell_type": "code",
      "metadata": {
        "id": "kMYAR3BcOacW",
        "colab_type": "code",
        "colab": {
          "base_uri": "https://localhost:8080/",
          "height": 136
        },
        "outputId": "b538f945-add9-4bcf-9467-98af6f2f6ed7"
      },
      "source": [
        "#This is to change the Position into a number.\n",
        "le=LabelEncoder()\n",
        "x[:,22]=le.fit_transform(x[:,22])\n",
        "print(x)"
      ],
      "execution_count": 96,
      "outputs": [
        {
          "output_type": "stream",
          "text": [
            "[[3 0 1 ... 'No' 'No' 'No']\n",
            " [3 0 3 ... 'No' 'No' 'No']\n",
            " [1 0 2 ... 'No' 'No' 'No']\n",
            " ...\n",
            " [3 1 1 ... 'No' 'No' 'No']\n",
            " [3 0 10 ... 'No' 'No' 'No']\n",
            " [3 1 6 ... 'No' 'No' 'No']]\n"
          ],
          "name": "stdout"
        }
      ]
    },
    {
      "cell_type": "code",
      "metadata": {
        "id": "xDu5JbznOhBS",
        "colab_type": "code",
        "colab": {
          "base_uri": "https://localhost:8080/",
          "height": 136
        },
        "outputId": "a5c986ce-0251-4f57-d332-8845268c15bd"
      },
      "source": [
        "#This is to change the Position into a number.\n",
        "le=LabelEncoder()\n",
        "x[:,23]=le.fit_transform(x[:,23])\n",
        "print(x)"
      ],
      "execution_count": 97,
      "outputs": [
        {
          "output_type": "stream",
          "text": [
            "[[3 0 1 ... 'No' 'No' 'No']\n",
            " [3 0 3 ... 'No' 'No' 'No']\n",
            " [1 0 2 ... 'No' 'No' 'No']\n",
            " ...\n",
            " [3 1 1 ... 'No' 'No' 'No']\n",
            " [3 0 10 ... 'No' 'No' 'No']\n",
            " [3 1 6 ... 'No' 'No' 'No']]\n"
          ],
          "name": "stdout"
        }
      ]
    },
    {
      "cell_type": "code",
      "metadata": {
        "id": "Uc7FBATPOo92",
        "colab_type": "code",
        "colab": {
          "base_uri": "https://localhost:8080/",
          "height": 136
        },
        "outputId": "b41b7f2a-d1ab-42ad-fd09-4140671919fc"
      },
      "source": [
        "#This is to change the Position into a number.\n",
        "le=LabelEncoder()\n",
        "x[:,24]=le.fit_transform(x[:,24])\n",
        "print(x)"
      ],
      "execution_count": 98,
      "outputs": [
        {
          "output_type": "stream",
          "text": [
            "[[3 0 1 ... 'No' 'No' 'No']\n",
            " [3 0 3 ... 'No' 'No' 'No']\n",
            " [1 0 2 ... 'No' 'No' 'No']\n",
            " ...\n",
            " [3 1 1 ... 'No' 'No' 'No']\n",
            " [3 0 10 ... 'No' 'No' 'No']\n",
            " [3 1 6 ... 'No' 'No' 'No']]\n"
          ],
          "name": "stdout"
        }
      ]
    },
    {
      "cell_type": "code",
      "metadata": {
        "id": "sjcwGf3BOtfd",
        "colab_type": "code",
        "colab": {
          "base_uri": "https://localhost:8080/",
          "height": 136
        },
        "outputId": "b74d1801-b8fa-4360-f701-30da6158eb5a"
      },
      "source": [
        "#This is to change the Position into a number.\n",
        "le=LabelEncoder()\n",
        "x[:,25]=le.fit_transform(x[:,25])\n",
        "print(x)"
      ],
      "execution_count": 99,
      "outputs": [
        {
          "output_type": "stream",
          "text": [
            "[[3 0 1 ... 'No' 'No' 'No']\n",
            " [3 0 3 ... 'No' 'No' 'No']\n",
            " [1 0 2 ... 'No' 'No' 'No']\n",
            " ...\n",
            " [3 1 1 ... 'No' 'No' 'No']\n",
            " [3 0 10 ... 'No' 'No' 'No']\n",
            " [3 1 6 ... 'No' 'No' 'No']]\n"
          ],
          "name": "stdout"
        }
      ]
    },
    {
      "cell_type": "code",
      "metadata": {
        "id": "W0I6w9jiOxCF",
        "colab_type": "code",
        "colab": {
          "base_uri": "https://localhost:8080/",
          "height": 136
        },
        "outputId": "bed1bbb2-518c-452a-f98b-9a827627d347"
      },
      "source": [
        "#This is to change the Position into a number.\n",
        "le=LabelEncoder()\n",
        "x[:,26]=le.fit_transform(x[:,26])\n",
        "print(x)"
      ],
      "execution_count": 100,
      "outputs": [
        {
          "output_type": "stream",
          "text": [
            "[[3 0 1 ... 'No' 'No' 'No']\n",
            " [3 0 3 ... 'No' 'No' 'No']\n",
            " [1 0 2 ... 'No' 'No' 'No']\n",
            " ...\n",
            " [3 1 1 ... 'No' 'No' 'No']\n",
            " [3 0 10 ... 'No' 'No' 'No']\n",
            " [3 1 6 ... 'No' 'No' 'No']]\n"
          ],
          "name": "stdout"
        }
      ]
    },
    {
      "cell_type": "code",
      "metadata": {
        "id": "u6r4qGdjO1Ba",
        "colab_type": "code",
        "colab": {
          "base_uri": "https://localhost:8080/",
          "height": 136
        },
        "outputId": "c46ef48e-ffed-4513-b61d-f12e1915f002"
      },
      "source": [
        "#This is to change the Position into a number.\n",
        "le=LabelEncoder()\n",
        "x[:,27]=le.fit_transform(x[:,27])\n",
        "print(x)"
      ],
      "execution_count": 101,
      "outputs": [
        {
          "output_type": "stream",
          "text": [
            "[[3 0 1 ... 'No' 'No' 'No']\n",
            " [3 0 3 ... 'No' 'No' 'No']\n",
            " [1 0 2 ... 'No' 'No' 'No']\n",
            " ...\n",
            " [3 1 1 ... 'No' 'No' 'No']\n",
            " [3 0 10 ... 'No' 'No' 'No']\n",
            " [3 1 6 ... 'No' 'No' 'No']]\n"
          ],
          "name": "stdout"
        }
      ]
    },
    {
      "cell_type": "code",
      "metadata": {
        "id": "qNmicKxRO3h0",
        "colab_type": "code",
        "colab": {
          "base_uri": "https://localhost:8080/",
          "height": 136
        },
        "outputId": "ee39db98-8b56-43cf-ca70-1d56e218e5e3"
      },
      "source": [
        "#This is to change the Position into a number.\n",
        "le=LabelEncoder()\n",
        "x[:,28]=le.fit_transform(x[:,28])\n",
        "print(x)"
      ],
      "execution_count": 102,
      "outputs": [
        {
          "output_type": "stream",
          "text": [
            "[[3 0 1 ... 0 'No' 'No']\n",
            " [3 0 3 ... 0 'No' 'No']\n",
            " [1 0 2 ... 0 'No' 'No']\n",
            " ...\n",
            " [3 1 1 ... 0 'No' 'No']\n",
            " [3 0 10 ... 0 'No' 'No']\n",
            " [3 1 6 ... 0 'No' 'No']]\n"
          ],
          "name": "stdout"
        }
      ]
    },
    {
      "cell_type": "code",
      "metadata": {
        "id": "5_yceXAjO71I",
        "colab_type": "code",
        "colab": {
          "base_uri": "https://localhost:8080/",
          "height": 136
        },
        "outputId": "adb9baa0-eadb-4182-8377-21f389367986"
      },
      "source": [
        "#This is to change the Position into a number.\n",
        "le=LabelEncoder()\n",
        "x[:,29]=le.fit_transform(x[:,29])\n",
        "print(x)"
      ],
      "execution_count": 103,
      "outputs": [
        {
          "output_type": "stream",
          "text": [
            "[[3 0 1 ... 0 0 'No']\n",
            " [3 0 3 ... 0 0 'No']\n",
            " [1 0 2 ... 0 0 'No']\n",
            " ...\n",
            " [3 1 1 ... 0 0 'No']\n",
            " [3 0 10 ... 0 0 'No']\n",
            " [3 1 6 ... 0 0 'No']]\n"
          ],
          "name": "stdout"
        }
      ]
    },
    {
      "cell_type": "code",
      "metadata": {
        "id": "9wiJpkLvO-1n",
        "colab_type": "code",
        "colab": {
          "base_uri": "https://localhost:8080/",
          "height": 136
        },
        "outputId": "57e32ffe-b686-41d9-c84a-455f2f6cbd78"
      },
      "source": [
        "#This is to change the Position into a number.\n",
        "le=LabelEncoder()\n",
        "x[:,30]=le.fit_transform(x[:,30])\n",
        "print(x)"
      ],
      "execution_count": 104,
      "outputs": [
        {
          "output_type": "stream",
          "text": [
            "[[3 0 1 ... 0 0 0]\n",
            " [3 0 3 ... 0 0 0]\n",
            " [1 0 2 ... 0 0 0]\n",
            " ...\n",
            " [3 1 1 ... 0 0 0]\n",
            " [3 0 10 ... 0 0 0]\n",
            " [3 1 6 ... 0 0 0]]\n"
          ],
          "name": "stdout"
        }
      ]
    },
    {
      "cell_type": "code",
      "metadata": {
        "id": "tUeYpXxEPDOu",
        "colab_type": "code",
        "colab": {
          "base_uri": "https://localhost:8080/",
          "height": 88
        },
        "outputId": "63db252c-5764-4e7f-c8b7-831d08505b4e"
      },
      "source": [
        "#This is to change the Position into a number.\n",
        "le=LabelEncoder()\n",
        "y=le.fit_transform(y)\n",
        "print(y)"
      ],
      "execution_count": 107,
      "outputs": [
        {
          "output_type": "stream",
          "text": [
            "[1 0 1 ... 0 0 1]\n"
          ],
          "name": "stdout"
        },
        {
          "output_type": "stream",
          "text": [
            "/usr/local/lib/python3.6/dist-packages/sklearn/preprocessing/_label.py:251: DataConversionWarning: A column-vector y was passed when a 1d array was expected. Please change the shape of y to (n_samples, ), for example using ravel().\n",
            "  y = column_or_1d(y, warn=True)\n"
          ],
          "name": "stderr"
        }
      ]
    },
    {
      "cell_type": "code",
      "metadata": {
        "id": "w64JS9FRPMMg",
        "colab_type": "code",
        "colab": {
          "base_uri": "https://localhost:8080/",
          "height": 289
        },
        "outputId": "efa0085f-3ade-4d60-b38e-8972fff0592c"
      },
      "source": [
        "#This is to split the training data.\n",
        "x_train, x_test, y_train, y_test=train_test_split(x,y, test_size=0.2, random_state=3)\n",
        "print(x_train)\n",
        "print(x_test)\n",
        "print(y_train)\n",
        "print(y_test)"
      ],
      "execution_count": 108,
      "outputs": [
        {
          "output_type": "stream",
          "text": [
            "[[1 1 7 ... 0 0 0]\n",
            " [3 1 3 ... 0 0 0]\n",
            " [3 1 4 ... 0 0 0]\n",
            " ...\n",
            " [3 0 8 ... 0 0 0]\n",
            " [3 1 5 ... 0 0 0]\n",
            " [3 0 5 ... 0 0 0]]\n",
            "[[3 0 7 ... 0 0 0]\n",
            " [3 1 2 ... 0 0 0]\n",
            " [1 1 3 ... 0 0 0]\n",
            " ...\n",
            " [3 0 4 ... 0 0 0]\n",
            " [3 0 6 ... 0 0 0]\n",
            " [3 1 2 ... 0 0 0]]\n",
            "[0 0 1 ... 0 0 1]\n",
            "[0 0 1 ... 1 1 1]\n"
          ],
          "name": "stdout"
        }
      ]
    },
    {
      "cell_type": "code",
      "metadata": {
        "id": "U71UkWc9PO5J",
        "colab_type": "code",
        "colab": {
          "base_uri": "https://localhost:8080/",
          "height": 119
        },
        "outputId": "94e22a91-877c-4594-e9c0-c6e2665e6e39"
      },
      "source": [
        "# This is to train\n",
        "regr_1 = DecisionTreeRegressor(max_depth=2)\n",
        "regr_1.fit(x, y)"
      ],
      "execution_count": 109,
      "outputs": [
        {
          "output_type": "execute_result",
          "data": {
            "text/plain": [
              "DecisionTreeRegressor(ccp_alpha=0.0, criterion='mse', max_depth=2,\n",
              "                      max_features=None, max_leaf_nodes=None,\n",
              "                      min_impurity_decrease=0.0, min_impurity_split=None,\n",
              "                      min_samples_leaf=1, min_samples_split=2,\n",
              "                      min_weight_fraction_leaf=0.0, presort='deprecated',\n",
              "                      random_state=None, splitter='best')"
            ]
          },
          "metadata": {
            "tags": []
          },
          "execution_count": 109
        }
      ]
    },
    {
      "cell_type": "code",
      "metadata": {
        "id": "PdWz3bY1PymT",
        "colab_type": "code",
        "colab": {
          "base_uri": "https://localhost:8080/",
          "height": 119
        },
        "outputId": "a5e22368-1ab6-43ee-d9d0-b6a0c1ca9364"
      },
      "source": [
        "regressor=DecisionTreeRegressor(criterion=\"mse\")\n",
        "regressor.fit(x,y)"
      ],
      "execution_count": 110,
      "outputs": [
        {
          "output_type": "execute_result",
          "data": {
            "text/plain": [
              "DecisionTreeRegressor(ccp_alpha=0.0, criterion='mse', max_depth=None,\n",
              "                      max_features=None, max_leaf_nodes=None,\n",
              "                      min_impurity_decrease=0.0, min_impurity_split=None,\n",
              "                      min_samples_leaf=1, min_samples_split=2,\n",
              "                      min_weight_fraction_leaf=0.0, presort='deprecated',\n",
              "                      random_state=None, splitter='best')"
            ]
          },
          "metadata": {
            "tags": []
          },
          "execution_count": 110
        }
      ]
    },
    {
      "cell_type": "code",
      "metadata": {
        "id": "Wr3gDbYjPRoN",
        "colab_type": "code",
        "colab": {
          "base_uri": "https://localhost:8080/",
          "height": 34
        },
        "outputId": "b7358abc-992e-419f-8065-666212afeaa0"
      },
      "source": [
        "#This is to test the model\n",
        "y_pred=regr_1.predict(x_test)\n",
        "print(y_pred)"
      ],
      "execution_count": 120,
      "outputs": [
        {
          "output_type": "stream",
          "text": [
            "[0.         0.         0.69990541 ... 0.69990541 0.69990541 0.69990541]\n"
          ],
          "name": "stdout"
        }
      ]
    },
    {
      "cell_type": "code",
      "metadata": {
        "id": "o_-chhzp1Wne",
        "colab_type": "code",
        "colab": {
          "base_uri": "https://localhost:8080/",
          "height": 34
        },
        "outputId": "3d173ac4-9c31-448a-fc0b-6fa711f63c7f"
      },
      "source": [
        "#Mean squared Error\n",
        "mse=mean_squared_error(y_test, y_pred)\n",
        "print(mse)"
      ],
      "execution_count": 121,
      "outputs": [
        {
          "output_type": "stream",
          "text": [
            "0.16046486400404672\n"
          ],
          "name": "stdout"
        }
      ]
    },
    {
      "cell_type": "code",
      "metadata": {
        "id": "6ZjpPfp41k5B",
        "colab_type": "code",
        "colab": {
          "base_uri": "https://localhost:8080/",
          "height": 34
        },
        "outputId": "7400c6ca-9b51-4efe-85b4-c3f55cf54d19"
      },
      "source": [
        "#R2 Score\n",
        "r2score=r2_score(y_test, y_pred)\n",
        "print(r2score)"
      ],
      "execution_count": 122,
      "outputs": [
        {
          "output_type": "stream",
          "text": [
            "0.3548117905525565\n"
          ],
          "name": "stdout"
        }
      ]
    }
  ]
}